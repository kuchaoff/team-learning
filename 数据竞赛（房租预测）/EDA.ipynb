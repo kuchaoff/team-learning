{
 "cells": [
  {
   "cell_type": "code",
   "execution_count": 1,
   "metadata": {},
   "outputs": [],
   "source": [
    "import pandas as pd\n",
    "import numpy as np\n",
    "import matplotlib.pyplot as plt\n",
    "import seaborn as sns"
   ]
  },
  {
   "cell_type": "code",
   "execution_count": 2,
   "metadata": {},
   "outputs": [],
   "source": [
    "import warnings\n",
    "warnings.filterwarnings('ignore')"
   ]
  },
  {
   "cell_type": "code",
   "execution_count": 3,
   "metadata": {},
   "outputs": [],
   "source": [
    "%matplotlib inline\n",
    "plt.rcParams['font.sans-serif']=['SimHei']"
   ]
  },
  {
   "cell_type": "markdown",
   "metadata": {},
   "source": [
    "# 任务分析\n",
    "回归任务；\n",
    "\n",
    "根据已有数据对房租进行预测；\n",
    "\n",
    "评分=1-SSE/SST=SSR/SST，拟合效果越好，SSE越小，评分越高。"
   ]
  },
  {
   "cell_type": "markdown",
   "metadata": {},
   "source": [
    "# 导入数据"
   ]
  },
  {
   "cell_type": "code",
   "execution_count": 4,
   "metadata": {},
   "outputs": [],
   "source": [
    "data_train = pd.read_csv('./数据集/train_data.csv')\n",
    "data_train['Type'] = 'Train'\n",
    "data_test = pd.read_csv('./数据集/test_a.csv')\n",
    "data_test['Type'] = 'Test'\n",
    "data_all = pd.concat([data_train, data_test], ignore_index=True)"
   ]
  },
  {
   "cell_type": "markdown",
   "metadata": {},
   "source": [
    "# 基本信息探查"
   ]
  },
  {
   "cell_type": "code",
   "execution_count": 5,
   "metadata": {
    "scrolled": true
   },
   "outputs": [
    {
     "name": "stdout",
     "output_type": "stream",
     "text": [
      "<class 'pandas.core.frame.DataFrame'>\n",
      "RangeIndex: 41440 entries, 0 to 41439\n",
      "Data columns (total 52 columns):\n",
      "ID                    41440 non-null int64\n",
      "area                  41440 non-null float64\n",
      "rentType              41440 non-null object\n",
      "houseType             41440 non-null object\n",
      "houseFloor            41440 non-null object\n",
      "totalFloor            41440 non-null int64\n",
      "houseToward           41440 non-null object\n",
      "houseDecoration       41440 non-null object\n",
      "communityName         41440 non-null object\n",
      "city                  41440 non-null object\n",
      "region                41440 non-null object\n",
      "plate                 41440 non-null object\n",
      "buildYear             41440 non-null object\n",
      "saleSecHouseNum       41440 non-null int64\n",
      "subwayStationNum      41440 non-null int64\n",
      "busStationNum         41440 non-null int64\n",
      "interSchoolNum        41440 non-null int64\n",
      "schoolNum             41440 non-null int64\n",
      "privateSchoolNum      41440 non-null int64\n",
      "hospitalNum           41440 non-null int64\n",
      "drugStoreNum          41440 non-null int64\n",
      "gymNum                41440 non-null int64\n",
      "bankNum               41440 non-null int64\n",
      "shopNum               41440 non-null int64\n",
      "parkNum               41440 non-null int64\n",
      "mallNum               41440 non-null int64\n",
      "superMarketNum        41440 non-null int64\n",
      "totalTradeMoney       41440 non-null int64\n",
      "totalTradeArea        41440 non-null float64\n",
      "tradeMeanPrice        41440 non-null float64\n",
      "tradeSecNum           41440 non-null int64\n",
      "totalNewTradeMoney    41440 non-null int64\n",
      "totalNewTradeArea     41440 non-null int64\n",
      "tradeNewMeanPrice     41440 non-null float64\n",
      "tradeNewNum           41440 non-null int64\n",
      "remainNewNum          41440 non-null int64\n",
      "supplyNewNum          41440 non-null int64\n",
      "supplyLandNum         41440 non-null int64\n",
      "supplyLandArea        41440 non-null float64\n",
      "tradeLandNum          41440 non-null int64\n",
      "tradeLandArea         41440 non-null float64\n",
      "landTotalPrice        41440 non-null int64\n",
      "landMeanPrice         41440 non-null float64\n",
      "totalWorkers          41440 non-null int64\n",
      "newWorkers            41440 non-null int64\n",
      "residentPopulation    41440 non-null int64\n",
      "pv                    41422 non-null float64\n",
      "uv                    41422 non-null float64\n",
      "lookNum               41440 non-null int64\n",
      "tradeTime             41440 non-null object\n",
      "tradeMoney            41440 non-null float64\n",
      "Type                  41440 non-null object\n",
      "dtypes: float64(10), int64(30), object(12)\n",
      "memory usage: 16.4+ MB\n"
     ]
    }
   ],
   "source": [
    "data_train.info()"
   ]
  },
  {
   "cell_type": "code",
   "execution_count": 6,
   "metadata": {
    "scrolled": false
   },
   "outputs": [
    {
     "data": {
      "text/html": [
       "<div>\n",
       "<style scoped>\n",
       "    .dataframe tbody tr th:only-of-type {\n",
       "        vertical-align: middle;\n",
       "    }\n",
       "\n",
       "    .dataframe tbody tr th {\n",
       "        vertical-align: top;\n",
       "    }\n",
       "\n",
       "    .dataframe thead th {\n",
       "        text-align: right;\n",
       "    }\n",
       "</style>\n",
       "<table border=\"1\" class=\"dataframe\">\n",
       "  <thead>\n",
       "    <tr style=\"text-align: right;\">\n",
       "      <th></th>\n",
       "      <th>ID</th>\n",
       "      <th>area</th>\n",
       "      <th>totalFloor</th>\n",
       "      <th>saleSecHouseNum</th>\n",
       "      <th>subwayStationNum</th>\n",
       "      <th>busStationNum</th>\n",
       "      <th>interSchoolNum</th>\n",
       "      <th>schoolNum</th>\n",
       "      <th>privateSchoolNum</th>\n",
       "      <th>hospitalNum</th>\n",
       "      <th>...</th>\n",
       "      <th>tradeLandArea</th>\n",
       "      <th>landTotalPrice</th>\n",
       "      <th>landMeanPrice</th>\n",
       "      <th>totalWorkers</th>\n",
       "      <th>newWorkers</th>\n",
       "      <th>residentPopulation</th>\n",
       "      <th>pv</th>\n",
       "      <th>uv</th>\n",
       "      <th>lookNum</th>\n",
       "      <th>tradeMoney</th>\n",
       "    </tr>\n",
       "  </thead>\n",
       "  <tbody>\n",
       "    <tr>\n",
       "      <th>count</th>\n",
       "      <td>4.144000e+04</td>\n",
       "      <td>41440.000000</td>\n",
       "      <td>41440.000000</td>\n",
       "      <td>41440.000000</td>\n",
       "      <td>41440.000000</td>\n",
       "      <td>41440.000000</td>\n",
       "      <td>41440.000000</td>\n",
       "      <td>41440.000000</td>\n",
       "      <td>41440.000000</td>\n",
       "      <td>41440.000000</td>\n",
       "      <td>...</td>\n",
       "      <td>41440.000000</td>\n",
       "      <td>4.144000e+04</td>\n",
       "      <td>41440.000000</td>\n",
       "      <td>41440.000000</td>\n",
       "      <td>41440.000000</td>\n",
       "      <td>41440.000000</td>\n",
       "      <td>41422.000000</td>\n",
       "      <td>41422.000000</td>\n",
       "      <td>41440.000000</td>\n",
       "      <td>4.144000e+04</td>\n",
       "    </tr>\n",
       "    <tr>\n",
       "      <th>mean</th>\n",
       "      <td>1.001221e+08</td>\n",
       "      <td>70.959409</td>\n",
       "      <td>11.413152</td>\n",
       "      <td>1.338538</td>\n",
       "      <td>5.741192</td>\n",
       "      <td>187.197153</td>\n",
       "      <td>1.506395</td>\n",
       "      <td>48.228813</td>\n",
       "      <td>6.271911</td>\n",
       "      <td>4.308736</td>\n",
       "      <td>...</td>\n",
       "      <td>12621.406425</td>\n",
       "      <td>1.045363e+08</td>\n",
       "      <td>724.763918</td>\n",
       "      <td>77250.235497</td>\n",
       "      <td>1137.132095</td>\n",
       "      <td>294514.059459</td>\n",
       "      <td>26945.663512</td>\n",
       "      <td>3089.077085</td>\n",
       "      <td>0.396260</td>\n",
       "      <td>8.837074e+03</td>\n",
       "    </tr>\n",
       "    <tr>\n",
       "      <th>std</th>\n",
       "      <td>9.376566e+04</td>\n",
       "      <td>88.119569</td>\n",
       "      <td>7.375203</td>\n",
       "      <td>3.180349</td>\n",
       "      <td>4.604929</td>\n",
       "      <td>179.674625</td>\n",
       "      <td>1.687631</td>\n",
       "      <td>29.568448</td>\n",
       "      <td>4.946457</td>\n",
       "      <td>3.359714</td>\n",
       "      <td>...</td>\n",
       "      <td>49853.120341</td>\n",
       "      <td>5.215216e+08</td>\n",
       "      <td>3224.303831</td>\n",
       "      <td>132052.508523</td>\n",
       "      <td>7667.381627</td>\n",
       "      <td>196745.147181</td>\n",
       "      <td>32174.637924</td>\n",
       "      <td>2954.706517</td>\n",
       "      <td>1.653932</td>\n",
       "      <td>5.514287e+05</td>\n",
       "    </tr>\n",
       "    <tr>\n",
       "      <th>min</th>\n",
       "      <td>1.000000e+08</td>\n",
       "      <td>1.000000</td>\n",
       "      <td>0.000000</td>\n",
       "      <td>0.000000</td>\n",
       "      <td>0.000000</td>\n",
       "      <td>24.000000</td>\n",
       "      <td>0.000000</td>\n",
       "      <td>9.000000</td>\n",
       "      <td>0.000000</td>\n",
       "      <td>0.000000</td>\n",
       "      <td>...</td>\n",
       "      <td>0.000000</td>\n",
       "      <td>0.000000e+00</td>\n",
       "      <td>0.000000</td>\n",
       "      <td>600.000000</td>\n",
       "      <td>0.000000</td>\n",
       "      <td>49330.000000</td>\n",
       "      <td>17.000000</td>\n",
       "      <td>6.000000</td>\n",
       "      <td>0.000000</td>\n",
       "      <td>0.000000e+00</td>\n",
       "    </tr>\n",
       "    <tr>\n",
       "      <th>25%</th>\n",
       "      <td>1.000470e+08</td>\n",
       "      <td>42.607500</td>\n",
       "      <td>6.000000</td>\n",
       "      <td>0.000000</td>\n",
       "      <td>2.000000</td>\n",
       "      <td>74.000000</td>\n",
       "      <td>0.000000</td>\n",
       "      <td>24.000000</td>\n",
       "      <td>2.000000</td>\n",
       "      <td>1.000000</td>\n",
       "      <td>...</td>\n",
       "      <td>0.000000</td>\n",
       "      <td>0.000000e+00</td>\n",
       "      <td>0.000000</td>\n",
       "      <td>13983.000000</td>\n",
       "      <td>0.000000</td>\n",
       "      <td>165293.000000</td>\n",
       "      <td>7928.000000</td>\n",
       "      <td>1053.000000</td>\n",
       "      <td>0.000000</td>\n",
       "      <td>2.800000e+03</td>\n",
       "    </tr>\n",
       "    <tr>\n",
       "      <th>50%</th>\n",
       "      <td>1.000960e+08</td>\n",
       "      <td>65.000000</td>\n",
       "      <td>7.000000</td>\n",
       "      <td>0.000000</td>\n",
       "      <td>5.000000</td>\n",
       "      <td>128.000000</td>\n",
       "      <td>1.000000</td>\n",
       "      <td>47.000000</td>\n",
       "      <td>5.000000</td>\n",
       "      <td>4.000000</td>\n",
       "      <td>...</td>\n",
       "      <td>0.000000</td>\n",
       "      <td>0.000000e+00</td>\n",
       "      <td>0.000000</td>\n",
       "      <td>38947.000000</td>\n",
       "      <td>0.000000</td>\n",
       "      <td>245872.000000</td>\n",
       "      <td>20196.000000</td>\n",
       "      <td>2375.000000</td>\n",
       "      <td>0.000000</td>\n",
       "      <td>4.000000e+03</td>\n",
       "    </tr>\n",
       "    <tr>\n",
       "      <th>75%</th>\n",
       "      <td>1.001902e+08</td>\n",
       "      <td>90.000000</td>\n",
       "      <td>16.000000</td>\n",
       "      <td>1.000000</td>\n",
       "      <td>7.000000</td>\n",
       "      <td>258.000000</td>\n",
       "      <td>3.000000</td>\n",
       "      <td>61.000000</td>\n",
       "      <td>9.000000</td>\n",
       "      <td>6.000000</td>\n",
       "      <td>...</td>\n",
       "      <td>0.000000</td>\n",
       "      <td>0.000000e+00</td>\n",
       "      <td>0.000000</td>\n",
       "      <td>76668.000000</td>\n",
       "      <td>0.000000</td>\n",
       "      <td>330610.000000</td>\n",
       "      <td>34485.000000</td>\n",
       "      <td>4233.000000</td>\n",
       "      <td>0.000000</td>\n",
       "      <td>5.500000e+03</td>\n",
       "    </tr>\n",
       "    <tr>\n",
       "      <th>max</th>\n",
       "      <td>1.003218e+08</td>\n",
       "      <td>15055.000000</td>\n",
       "      <td>88.000000</td>\n",
       "      <td>52.000000</td>\n",
       "      <td>22.000000</td>\n",
       "      <td>824.000000</td>\n",
       "      <td>8.000000</td>\n",
       "      <td>142.000000</td>\n",
       "      <td>24.000000</td>\n",
       "      <td>14.000000</td>\n",
       "      <td>...</td>\n",
       "      <td>555508.010000</td>\n",
       "      <td>6.197570e+09</td>\n",
       "      <td>37513.062490</td>\n",
       "      <td>855400.000000</td>\n",
       "      <td>143700.000000</td>\n",
       "      <td>928198.000000</td>\n",
       "      <td>621864.000000</td>\n",
       "      <td>39876.000000</td>\n",
       "      <td>37.000000</td>\n",
       "      <td>1.000000e+08</td>\n",
       "    </tr>\n",
       "  </tbody>\n",
       "</table>\n",
       "<p>8 rows × 40 columns</p>\n",
       "</div>"
      ],
      "text/plain": [
       "                 ID          area    totalFloor  saleSecHouseNum  \\\n",
       "count  4.144000e+04  41440.000000  41440.000000     41440.000000   \n",
       "mean   1.001221e+08     70.959409     11.413152         1.338538   \n",
       "std    9.376566e+04     88.119569      7.375203         3.180349   \n",
       "min    1.000000e+08      1.000000      0.000000         0.000000   \n",
       "25%    1.000470e+08     42.607500      6.000000         0.000000   \n",
       "50%    1.000960e+08     65.000000      7.000000         0.000000   \n",
       "75%    1.001902e+08     90.000000     16.000000         1.000000   \n",
       "max    1.003218e+08  15055.000000     88.000000        52.000000   \n",
       "\n",
       "       subwayStationNum  busStationNum  interSchoolNum     schoolNum  \\\n",
       "count      41440.000000   41440.000000    41440.000000  41440.000000   \n",
       "mean           5.741192     187.197153        1.506395     48.228813   \n",
       "std            4.604929     179.674625        1.687631     29.568448   \n",
       "min            0.000000      24.000000        0.000000      9.000000   \n",
       "25%            2.000000      74.000000        0.000000     24.000000   \n",
       "50%            5.000000     128.000000        1.000000     47.000000   \n",
       "75%            7.000000     258.000000        3.000000     61.000000   \n",
       "max           22.000000     824.000000        8.000000    142.000000   \n",
       "\n",
       "       privateSchoolNum   hospitalNum  ...  tradeLandArea  landTotalPrice  \\\n",
       "count      41440.000000  41440.000000  ...   41440.000000    4.144000e+04   \n",
       "mean           6.271911      4.308736  ...   12621.406425    1.045363e+08   \n",
       "std            4.946457      3.359714  ...   49853.120341    5.215216e+08   \n",
       "min            0.000000      0.000000  ...       0.000000    0.000000e+00   \n",
       "25%            2.000000      1.000000  ...       0.000000    0.000000e+00   \n",
       "50%            5.000000      4.000000  ...       0.000000    0.000000e+00   \n",
       "75%            9.000000      6.000000  ...       0.000000    0.000000e+00   \n",
       "max           24.000000     14.000000  ...  555508.010000    6.197570e+09   \n",
       "\n",
       "       landMeanPrice   totalWorkers     newWorkers  residentPopulation  \\\n",
       "count   41440.000000   41440.000000   41440.000000        41440.000000   \n",
       "mean      724.763918   77250.235497    1137.132095       294514.059459   \n",
       "std      3224.303831  132052.508523    7667.381627       196745.147181   \n",
       "min         0.000000     600.000000       0.000000        49330.000000   \n",
       "25%         0.000000   13983.000000       0.000000       165293.000000   \n",
       "50%         0.000000   38947.000000       0.000000       245872.000000   \n",
       "75%         0.000000   76668.000000       0.000000       330610.000000   \n",
       "max     37513.062490  855400.000000  143700.000000       928198.000000   \n",
       "\n",
       "                  pv            uv       lookNum    tradeMoney  \n",
       "count   41422.000000  41422.000000  41440.000000  4.144000e+04  \n",
       "mean    26945.663512   3089.077085      0.396260  8.837074e+03  \n",
       "std     32174.637924   2954.706517      1.653932  5.514287e+05  \n",
       "min        17.000000      6.000000      0.000000  0.000000e+00  \n",
       "25%      7928.000000   1053.000000      0.000000  2.800000e+03  \n",
       "50%     20196.000000   2375.000000      0.000000  4.000000e+03  \n",
       "75%     34485.000000   4233.000000      0.000000  5.500000e+03  \n",
       "max    621864.000000  39876.000000     37.000000  1.000000e+08  \n",
       "\n",
       "[8 rows x 40 columns]"
      ]
     },
     "execution_count": 6,
     "metadata": {},
     "output_type": "execute_result"
    }
   ],
   "source": [
    "#描述统计信息\n",
    "data_train.describe()"
   ]
  },
  {
   "cell_type": "code",
   "execution_count": 7,
   "metadata": {
    "scrolled": false
   },
   "outputs": [
    {
     "data": {
      "text/html": [
       "<div>\n",
       "<style scoped>\n",
       "    .dataframe tbody tr th:only-of-type {\n",
       "        vertical-align: middle;\n",
       "    }\n",
       "\n",
       "    .dataframe tbody tr th {\n",
       "        vertical-align: top;\n",
       "    }\n",
       "\n",
       "    .dataframe thead th {\n",
       "        text-align: right;\n",
       "    }\n",
       "</style>\n",
       "<table border=\"1\" class=\"dataframe\">\n",
       "  <thead>\n",
       "    <tr style=\"text-align: right;\">\n",
       "      <th></th>\n",
       "      <th>ID</th>\n",
       "      <th>area</th>\n",
       "      <th>rentType</th>\n",
       "      <th>houseType</th>\n",
       "      <th>houseFloor</th>\n",
       "      <th>totalFloor</th>\n",
       "      <th>houseToward</th>\n",
       "      <th>houseDecoration</th>\n",
       "      <th>communityName</th>\n",
       "      <th>city</th>\n",
       "      <th>...</th>\n",
       "      <th>landMeanPrice</th>\n",
       "      <th>totalWorkers</th>\n",
       "      <th>newWorkers</th>\n",
       "      <th>residentPopulation</th>\n",
       "      <th>pv</th>\n",
       "      <th>uv</th>\n",
       "      <th>lookNum</th>\n",
       "      <th>tradeTime</th>\n",
       "      <th>tradeMoney</th>\n",
       "      <th>Type</th>\n",
       "    </tr>\n",
       "  </thead>\n",
       "  <tbody>\n",
       "    <tr>\n",
       "      <th>0</th>\n",
       "      <td>100309852</td>\n",
       "      <td>68.06</td>\n",
       "      <td>未知方式</td>\n",
       "      <td>2室1厅1卫</td>\n",
       "      <td>低</td>\n",
       "      <td>16</td>\n",
       "      <td>暂无数据</td>\n",
       "      <td>其他</td>\n",
       "      <td>XQ00051</td>\n",
       "      <td>SH</td>\n",
       "      <td>...</td>\n",
       "      <td>0.0</td>\n",
       "      <td>28248</td>\n",
       "      <td>614</td>\n",
       "      <td>111546</td>\n",
       "      <td>1124.0</td>\n",
       "      <td>284.0</td>\n",
       "      <td>0</td>\n",
       "      <td>2018/11/28</td>\n",
       "      <td>2000.0</td>\n",
       "      <td>Train</td>\n",
       "    </tr>\n",
       "    <tr>\n",
       "      <th>1</th>\n",
       "      <td>100307942</td>\n",
       "      <td>125.55</td>\n",
       "      <td>未知方式</td>\n",
       "      <td>3室2厅2卫</td>\n",
       "      <td>中</td>\n",
       "      <td>14</td>\n",
       "      <td>暂无数据</td>\n",
       "      <td>简装</td>\n",
       "      <td>XQ00130</td>\n",
       "      <td>SH</td>\n",
       "      <td>...</td>\n",
       "      <td>0.0</td>\n",
       "      <td>14823</td>\n",
       "      <td>148</td>\n",
       "      <td>157552</td>\n",
       "      <td>701.0</td>\n",
       "      <td>22.0</td>\n",
       "      <td>1</td>\n",
       "      <td>2018/12/16</td>\n",
       "      <td>2000.0</td>\n",
       "      <td>Train</td>\n",
       "    </tr>\n",
       "    <tr>\n",
       "      <th>2</th>\n",
       "      <td>100307764</td>\n",
       "      <td>132.00</td>\n",
       "      <td>未知方式</td>\n",
       "      <td>3室2厅2卫</td>\n",
       "      <td>低</td>\n",
       "      <td>32</td>\n",
       "      <td>暂无数据</td>\n",
       "      <td>其他</td>\n",
       "      <td>XQ00179</td>\n",
       "      <td>SH</td>\n",
       "      <td>...</td>\n",
       "      <td>0.0</td>\n",
       "      <td>77645</td>\n",
       "      <td>520</td>\n",
       "      <td>131744</td>\n",
       "      <td>57.0</td>\n",
       "      <td>20.0</td>\n",
       "      <td>1</td>\n",
       "      <td>2018/12/22</td>\n",
       "      <td>16000.0</td>\n",
       "      <td>Train</td>\n",
       "    </tr>\n",
       "  </tbody>\n",
       "</table>\n",
       "<p>3 rows × 52 columns</p>\n",
       "</div>"
      ],
      "text/plain": [
       "          ID    area rentType houseType houseFloor  totalFloor houseToward  \\\n",
       "0  100309852   68.06     未知方式    2室1厅1卫          低          16        暂无数据   \n",
       "1  100307942  125.55     未知方式    3室2厅2卫          中          14        暂无数据   \n",
       "2  100307764  132.00     未知方式    3室2厅2卫          低          32        暂无数据   \n",
       "\n",
       "  houseDecoration communityName city  ... landMeanPrice totalWorkers  \\\n",
       "0              其他       XQ00051   SH  ...           0.0        28248   \n",
       "1              简装       XQ00130   SH  ...           0.0        14823   \n",
       "2              其他       XQ00179   SH  ...           0.0        77645   \n",
       "\n",
       "  newWorkers  residentPopulation      pv     uv  lookNum   tradeTime  \\\n",
       "0        614              111546  1124.0  284.0        0  2018/11/28   \n",
       "1        148              157552   701.0   22.0        1  2018/12/16   \n",
       "2        520              131744    57.0   20.0        1  2018/12/22   \n",
       "\n",
       "   tradeMoney   Type  \n",
       "0      2000.0  Train  \n",
       "1      2000.0  Train  \n",
       "2     16000.0  Train  \n",
       "\n",
       "[3 rows x 52 columns]"
      ]
     },
     "execution_count": 7,
     "metadata": {},
     "output_type": "execute_result"
    }
   ],
   "source": [
    "data_train.head(3)"
   ]
  },
  {
   "cell_type": "markdown",
   "metadata": {},
   "source": [
    "# 缺失值"
   ]
  },
  {
   "cell_type": "markdown",
   "metadata": {},
   "source": [
    "pv,uv列缺失"
   ]
  },
  {
   "cell_type": "code",
   "execution_count": 8,
   "metadata": {
    "scrolled": true
   },
   "outputs": [
    {
     "data": {
      "text/plain": [
       "ID                    False\n",
       "area                  False\n",
       "rentType              False\n",
       "houseType             False\n",
       "houseFloor            False\n",
       "totalFloor            False\n",
       "houseToward           False\n",
       "houseDecoration       False\n",
       "communityName         False\n",
       "city                  False\n",
       "region                False\n",
       "plate                 False\n",
       "buildYear             False\n",
       "saleSecHouseNum       False\n",
       "subwayStationNum      False\n",
       "busStationNum         False\n",
       "interSchoolNum        False\n",
       "schoolNum             False\n",
       "privateSchoolNum      False\n",
       "hospitalNum           False\n",
       "drugStoreNum          False\n",
       "gymNum                False\n",
       "bankNum               False\n",
       "shopNum               False\n",
       "parkNum               False\n",
       "mallNum               False\n",
       "superMarketNum        False\n",
       "totalTradeMoney       False\n",
       "totalTradeArea        False\n",
       "tradeMeanPrice        False\n",
       "tradeSecNum           False\n",
       "totalNewTradeMoney    False\n",
       "totalNewTradeArea     False\n",
       "tradeNewMeanPrice     False\n",
       "tradeNewNum           False\n",
       "remainNewNum          False\n",
       "supplyNewNum          False\n",
       "supplyLandNum         False\n",
       "supplyLandArea        False\n",
       "tradeLandNum          False\n",
       "tradeLandArea         False\n",
       "landTotalPrice        False\n",
       "landMeanPrice         False\n",
       "totalWorkers          False\n",
       "newWorkers            False\n",
       "residentPopulation    False\n",
       "pv                     True\n",
       "uv                     True\n",
       "lookNum               False\n",
       "tradeTime             False\n",
       "tradeMoney            False\n",
       "Type                  False\n",
       "dtype: bool"
      ]
     },
     "execution_count": 8,
     "metadata": {},
     "output_type": "execute_result"
    }
   ],
   "source": [
    "data_train.isna().any()"
   ]
  },
  {
   "cell_type": "code",
   "execution_count": 9,
   "metadata": {
    "scrolled": true
   },
   "outputs": [
    {
     "name": "stdout",
     "output_type": "stream",
     "text": [
      "<class 'pandas.core.frame.DataFrame'>\n",
      "RangeIndex: 41440 entries, 0 to 41439\n",
      "Data columns (total 52 columns):\n",
      "ID                    41440 non-null int64\n",
      "area                  41440 non-null float64\n",
      "rentType              41440 non-null object\n",
      "houseType             41440 non-null object\n",
      "houseFloor            41440 non-null object\n",
      "totalFloor            41440 non-null int64\n",
      "houseToward           41440 non-null object\n",
      "houseDecoration       41440 non-null object\n",
      "communityName         41440 non-null object\n",
      "city                  41440 non-null object\n",
      "region                41440 non-null object\n",
      "plate                 41440 non-null object\n",
      "buildYear             41440 non-null object\n",
      "saleSecHouseNum       41440 non-null int64\n",
      "subwayStationNum      41440 non-null int64\n",
      "busStationNum         41440 non-null int64\n",
      "interSchoolNum        41440 non-null int64\n",
      "schoolNum             41440 non-null int64\n",
      "privateSchoolNum      41440 non-null int64\n",
      "hospitalNum           41440 non-null int64\n",
      "drugStoreNum          41440 non-null int64\n",
      "gymNum                41440 non-null int64\n",
      "bankNum               41440 non-null int64\n",
      "shopNum               41440 non-null int64\n",
      "parkNum               41440 non-null int64\n",
      "mallNum               41440 non-null int64\n",
      "superMarketNum        41440 non-null int64\n",
      "totalTradeMoney       41440 non-null int64\n",
      "totalTradeArea        41440 non-null float64\n",
      "tradeMeanPrice        41440 non-null float64\n",
      "tradeSecNum           41440 non-null int64\n",
      "totalNewTradeMoney    41440 non-null int64\n",
      "totalNewTradeArea     41440 non-null int64\n",
      "tradeNewMeanPrice     41440 non-null float64\n",
      "tradeNewNum           41440 non-null int64\n",
      "remainNewNum          41440 non-null int64\n",
      "supplyNewNum          41440 non-null int64\n",
      "supplyLandNum         41440 non-null int64\n",
      "supplyLandArea        41440 non-null float64\n",
      "tradeLandNum          41440 non-null int64\n",
      "tradeLandArea         41440 non-null float64\n",
      "landTotalPrice        41440 non-null int64\n",
      "landMeanPrice         41440 non-null float64\n",
      "totalWorkers          41440 non-null int64\n",
      "newWorkers            41440 non-null int64\n",
      "residentPopulation    41440 non-null int64\n",
      "pv                    41422 non-null float64\n",
      "uv                    41422 non-null float64\n",
      "lookNum               41440 non-null int64\n",
      "tradeTime             41440 non-null object\n",
      "tradeMoney            41440 non-null float64\n",
      "Type                  41440 non-null object\n",
      "dtypes: float64(10), int64(30), object(12)\n",
      "memory usage: 16.4+ MB\n"
     ]
    }
   ],
   "source": [
    "data_train.info()"
   ]
  },
  {
   "cell_type": "markdown",
   "metadata": {},
   "source": [
    "# 特征值"
   ]
  },
  {
   "cell_type": "code",
   "execution_count": 10,
   "metadata": {},
   "outputs": [],
   "source": [
    "numeric_list=['area','totalFloor','saleSecHouseNum','subwayStationNum',\n",
    "    'busStationNum','interSchoolNum','schoolNum','privateSchoolNum','hospitalNum',\n",
    "    'drugStoreNum','gymNum','bankNum','shopNum','parkNum','mallNum','superMarketNum',\n",
    "    'totalTradeMoney','totalTradeArea','tradeMeanPrice','tradeSecNum','totalNewTradeMoney',\n",
    "    'totalNewTradeArea','tradeNewMeanPrice','tradeNewNum','remainNewNum','supplyNewNum',\n",
    "    'supplyLandNum','supplyLandArea','tradeLandNum','tradeLandArea','landTotalPrice',\n",
    "    'landMeanPrice','totalWorkers','newWorkers','residentPopulation','pv','uv','lookNum']\n",
    "\n",
    "type_list=list(set(data_train.columns)-set(numeric_list)-set(['Type','ID','tradeTime']))"
   ]
  },
  {
   "cell_type": "markdown",
   "metadata": {},
   "source": [
    "# 单调特征"
   ]
  },
  {
   "cell_type": "code",
   "execution_count": 13,
   "metadata": {},
   "outputs": [
    {
     "name": "stdout",
     "output_type": "stream",
     "text": [
      "单调特征： tradeTime\n",
      "单调特征值个数： 24085\n",
      "单调特征值比例： 0.5812017374517374\n"
     ]
    }
   ],
   "source": [
    "def incresing(vals):\n",
    "    cnt = 0\n",
    "    len_ = len(vals)\n",
    "    for i in range(len_-1):\n",
    "        if vals[i+1] > vals[i]:\n",
    "            cnt += 1\n",
    "    return cnt\n",
    "\n",
    "for col in data_train.columns:\n",
    "    cnt = incresing(data_train[col].values)\n",
    "    if cnt / data_train.shape[0] >= 0.55:\n",
    "        print('单调特征：',col)\n",
    "        print('单调特征值个数：', cnt)\n",
    "        print('单调特征值比例：', cnt / data_train.shape[0])"
   ]
  },
  {
   "cell_type": "markdown",
   "metadata": {},
   "source": [
    "# 变量值分布"
   ]
  },
  {
   "cell_type": "code",
   "execution_count": 29,
   "metadata": {},
   "outputs": [
    {
     "name": "stdout",
     "output_type": "stream",
     "text": [
      "area\n"
     ]
    },
    {
     "data": {
      "image/png": "[encoded data removed]",
      "text/plain": [
       "<Figure size 432x288 with 1 Axes>"
      ]
     },
     "metadata": {
      "needs_background": "light"
     },
     "output_type": "display_data"
    },
    {
     "name": "stdout",
     "output_type": "stream",
     "text": [
      "totalFloor\n"
     ]
    },
    {
     "data": {
      "image/png": "[encoded data removed]",
      "text/plain": [
       "<Figure size 432x288 with 1 Axes>"
      ]
     },
     "metadata": {
      "needs_background": "light"
     },
     "output_type": "display_data"
    },
    {
     "name": "stdout",
     "output_type": "stream",
     "text": [
      "saleSecHouseNum\n"
     ]
    },
    {
     "data": {
      "image/png": "[encoded data removed]",
      "text/plain": [
       "<Figure size 432x288 with 1 Axes>"
      ]
     },
     "metadata": {
      "needs_background": "light"
     },
     "output_type": "display_data"
    },
    {
     "name": "stdout",
     "output_type": "stream",
     "text": [
      "subwayStationNum\n"
     ]
    },
    {
     "data": {
      "image/png": "[encoded data removed]",
      "text/plain": [
       "<Figure size 432x288 with 1 Axes>"
      ]
     },
     "metadata": {
      "needs_background": "light"
     },
     "output_type": "display_data"
    },
    {
     "name": "stdout",
     "output_type": "stream",
     "text": [
      "busStationNum\n"
     ]
    },
    {
     "data": {
      "image/png": "[encoded data removed]",
      "text/plain": [
       "<Figure size 432x288 with 1 Axes>"
      ]
     },
     "metadata": {
      "needs_background": "light"
     },
     "output_type": "display_data"
    },
    {
     "name": "stdout",
     "output_type": "stream",
     "text": [
      "interSchoolNum\n"
     ]
    },
    {
     "data": {
      "image/png": "[encoded data removed]",
      "text/plain": [
       "<Figure size 432x288 with 1 Axes>"
      ]
     },
     "metadata": {
      "needs_background": "light"
     },
     "output_type": "display_data"
    },
    {
     "name": "stdout",
     "output_type": "stream",
     "text": [
      "schoolNum\n"
     ]
    },
    {
     "data": {
      "image/png": "[encoded data removed]",
      "text/plain": [
       "<Figure size 432x288 with 1 Axes>"
      ]
     },
     "metadata": {
      "needs_background": "light"
     },
     "output_type": "display_data"
    },
    {
     "name": "stdout",
     "output_type": "stream",
     "text": [
      "privateSchoolNum\n"
     ]
    },
    {
     "data": {
      "image/png": "[encoded data removed]",
      "text/plain": [
       "<Figure size 432x288 with 1 Axes>"
      ]
     },
     "metadata": {
      "needs_background": "light"
     },
     "output_type": "display_data"
    },
    {
     "name": "stdout",
     "output_type": "stream",
     "text": [
      "hospitalNum\n"
     ]
    },
    {
     "data": {
      "image/png": "[encoded data removed]",
      "text/plain": [
       "<Figure size 432x288 with 1 Axes>"
      ]
     },
     "metadata": {
      "needs_background": "light"
     },
     "output_type": "display_data"
    },
    {
     "name": "stdout",
     "output_type": "stream",
     "text": [
      "drugStoreNum\n"
     ]
    },
    {
     "data": {
      "image/png": "[encoded data removed]",
      "text/plain": [
       "<Figure size 432x288 with 1 Axes>"
      ]
     },
     "metadata": {
      "needs_background": "light"
     },
     "output_type": "display_data"
    },
    {
     "name": "stdout",
     "output_type": "stream",
     "text": [
      "gymNum\n"
     ]
    },
    {
     "data": {
      "image/png": "[encoded data removed]",
      "text/plain": [
       "<Figure size 432x288 with 1 Axes>"
      ]
     },
     "metadata": {
      "needs_background": "light"
     },
     "output_type": "display_data"
    },
    {
     "name": "stdout",
     "output_type": "stream",
     "text": [
      "bankNum\n"
     ]
    },
    {
     "data": {
      "image/png": "[encoded data removed]",
      "text/plain": [
       "<Figure size 432x288 with 1 Axes>"
      ]
     },
     "metadata": {
      "needs_background": "light"
     },
     "output_type": "display_data"
    },
    {
     "name": "stdout",
     "output_type": "stream",
     "text": [
      "shopNum\n"
     ]
    },
    {
     "data": {
      "image/png": "[encoded data removed]",
      "text/plain": [
       "<Figure size 432x288 with 1 Axes>"
      ]
     },
     "metadata": {
      "needs_background": "light"
     },
     "output_type": "display_data"
    },
    {
     "name": "stdout",
     "output_type": "stream",
     "text": [
      "parkNum\n"
     ]
    },
    {
     "data": {
      "image/png": "[encoded data removed]",
      "text/plain": [
       "<Figure size 432x288 with 1 Axes>"
      ]
     },
     "metadata": {
      "needs_background": "light"
     },
     "output_type": "display_data"
    },
    {
     "name": "stdout",
     "output_type": "stream",
     "text": [
      "mallNum\n"
     ]
    },
    {
     "data": {
      "image/png": "[encoded data removed]",
      "text/plain": [
       "<Figure size 432x288 with 1 Axes>"
      ]
     },
     "metadata": {
      "needs_background": "light"
     },
     "output_type": "display_data"
    },
    {
     "name": "stdout",
     "output_type": "stream",
     "text": [
      "superMarketNum\n"
     ]
    },
    {
     "data": {
      "image/png": "[encoded data removed]",
      "text/plain": [
       "<Figure size 432x288 with 1 Axes>"
      ]
     },
     "metadata": {
      "needs_background": "light"
     },
     "output_type": "display_data"
    },
    {
     "name": "stdout",
     "output_type": "stream",
     "text": [
      "totalTradeMoney\n"
     ]
    },
    {
     "data": {
      "image/png": "[encoded data removed]",
      "text/plain": [
       "<Figure size 432x288 with 1 Axes>"
      ]
     },
     "metadata": {
      "needs_background": "light"
     },
     "output_type": "display_data"
    },
    {
     "name": "stdout",
     "output_type": "stream",
     "text": [
      "totalTradeArea\n"
     ]
    },
    {
     "data": {
      "image/png": "[encoded data removed]",
      "text/plain": [
       "<Figure size 432x288 with 1 Axes>"
      ]
     },
     "metadata": {
      "needs_background": "light"
     },
     "output_type": "display_data"
    },
    {
     "name": "stdout",
     "output_type": "stream",
     "text": [
      "tradeMeanPrice\n"
     ]
    },
    {
     "data": {
      "image/png": "[encoded data removed]",
      "text/plain": [
       "<Figure size 432x288 with 1 Axes>"
      ]
     },
     "metadata": {
      "needs_background": "light"
     },
     "output_type": "display_data"
    },
    {
     "name": "stdout",
     "output_type": "stream",
     "text": [
      "tradeSecNum\n"
     ]
    },
    {
     "data": {
      "image/png": "[encoded data removed]",
      "text/plain": [
       "<Figure size 432x288 with 1 Axes>"
      ]
     },
     "metadata": {
      "needs_background": "light"
     },
     "output_type": "display_data"
    },
    {
     "name": "stdout",
     "output_type": "stream",
     "text": [
      "totalNewTradeMoney\n"
     ]
    },
    {
     "data": {
      "image/png": "[encoded data removed]",
      "text/plain": [
       "<Figure size 432x288 with 1 Axes>"
      ]
     },
     "metadata": {
      "needs_background": "light"
     },
     "output_type": "display_data"
    },
    {
     "name": "stdout",
     "output_type": "stream",
     "text": [
      "totalNewTradeArea\n"
     ]
    },
    {
     "data": {
      "image/png": "[encoded data removed]",
      "text/plain": [
       "<Figure size 432x288 with 1 Axes>"
      ]
     },
     "metadata": {
      "needs_background": "light"
     },
     "output_type": "display_data"
    },
    {
     "name": "stdout",
     "output_type": "stream",
     "text": [
      "tradeNewMeanPrice\n"
     ]
    },
    {
     "data": {
      "image/png": "[encoded data removed]",
      "text/plain": [
       "<Figure size 432x288 with 1 Axes>"
      ]
     },
     "metadata": {
      "needs_background": "light"
     },
     "output_type": "display_data"
    },
    {
     "name": "stdout",
     "output_type": "stream",
     "text": [
      "tradeNewNum\n"
     ]
    },
    {
     "data": {
      "image/png": "[encoded data removed]",
      "text/plain": [
       "<Figure size 432x288 with 1 Axes>"
      ]
     },
     "metadata": {
      "needs_background": "light"
     },
     "output_type": "display_data"
    },
    {
     "name": "stdout",
     "output_type": "stream",
     "text": [
      "remainNewNum\n"
     ]
    },
    {
     "data": {
      "image/png": "[encoded data removed]",
      "text/plain": [
       "<Figure size 432x288 with 1 Axes>"
      ]
     },
     "metadata": {
      "needs_background": "light"
     },
     "output_type": "display_data"
    },
    {
     "name": "stdout",
     "output_type": "stream",
     "text": [
      "supplyNewNum\n"
     ]
    },
    {
     "data": {
      "image/png": "[encoded data removed]",
      "text/plain": [
       "<Figure size 432x288 with 1 Axes>"
      ]
     },
     "metadata": {
      "needs_background": "light"
     },
     "output_type": "display_data"
    },
    {
     "name": "stdout",
     "output_type": "stream",
     "text": [
      "supplyLandNum\n"
     ]
    },
    {
     "data": {
      "image/png": "[encoded data removed]",
      "text/plain": [
       "<Figure size 432x288 with 1 Axes>"
      ]
     },
     "metadata": {
      "needs_background": "light"
     },
     "output_type": "display_data"
    },
    {
     "name": "stdout",
     "output_type": "stream",
     "text": [
      "supplyLandArea\n"
     ]
    },
    {
     "data": {
      "image/png": "[encoded data removed]",
      "text/plain": [
       "<Figure size 432x288 with 1 Axes>"
      ]
     },
     "metadata": {
      "needs_background": "light"
     },
     "output_type": "display_data"
    },
    {
     "name": "stdout",
     "output_type": "stream",
     "text": [
      "tradeLandNum\n"
     ]
    },
    {
     "data": {
      "image/png": "[encoded data removed]",
      "text/plain": [
       "<Figure size 432x288 with 1 Axes>"
      ]
     },
     "metadata": {
      "needs_background": "light"
     },
     "output_type": "display_data"
    },
    {
     "name": "stdout",
     "output_type": "stream",
     "text": [
      "tradeLandArea\n"
     ]
    },
    {
     "data": {
      "image/png": "[encoded data removed]",
      "text/plain": [
       "<Figure size 432x288 with 1 Axes>"
      ]
     },
     "metadata": {
      "needs_background": "light"
     },
     "output_type": "display_data"
    },
    {
     "name": "stdout",
     "output_type": "stream",
     "text": [
      "landTotalPrice\n"
     ]
    },
    {
     "data": {
      "image/png": "[encoded data removed]",
      "text/plain": [
       "<Figure size 432x288 with 1 Axes>"
      ]
     },
     "metadata": {
      "needs_background": "light"
     },
     "output_type": "display_data"
    },
    {
     "name": "stdout",
     "output_type": "stream",
     "text": [
      "landMeanPrice\n"
     ]
    },
    {
     "data": {
      "image/png": "[encoded data removed]",
      "text/plain": [
       "<Figure size 432x288 with 1 Axes>"
      ]
     },
     "metadata": {
      "needs_background": "light"
     },
     "output_type": "display_data"
    },
    {
     "name": "stdout",
     "output_type": "stream",
     "text": [
      "totalWorkers\n"
     ]
    },
    {
     "data": {
      "image/png": "[encoded data removed]",
      "text/plain": [
       "<Figure size 432x288 with 1 Axes>"
      ]
     },
     "metadata": {
      "needs_background": "light"
     },
     "output_type": "display_data"
    },
    {
     "name": "stdout",
     "output_type": "stream",
     "text": [
      "newWorkers\n"
     ]
    },
    {
     "data": {
      "image/png": "[encoded data removed]",
      "text/plain": [
       "<Figure size 432x288 with 1 Axes>"
      ]
     },
     "metadata": {
      "needs_background": "light"
     },
     "output_type": "display_data"
    },
    {
     "name": "stdout",
     "output_type": "stream",
     "text": [
      "residentPopulation\n"
     ]
    },
    {
     "data": {
      "image/png": "[encoded data removed]",
      "text/plain": [
       "<Figure size 432x288 with 1 Axes>"
      ]
     },
     "metadata": {
      "needs_background": "light"
     },
     "output_type": "display_data"
    },
    {
     "name": "stdout",
     "output_type": "stream",
     "text": [
      "pv\n"
     ]
    },
    {
     "data": {
      "image/png": "[encoded data removed]",
      "text/plain": [
       "<Figure size 432x288 with 1 Axes>"
      ]
     },
     "metadata": {
      "needs_background": "light"
     },
     "output_type": "display_data"
    },
    {
     "name": "stdout",
     "output_type": "stream",
     "text": [
      "uv\n"
     ]
    },
    {
     "data": {
      "image/png": "[encoded data removed]",
      "text/plain": [
       "<Figure size 432x288 with 1 Axes>"
      ]
     },
     "metadata": {
      "needs_background": "light"
     },
     "output_type": "display_data"
    },
    {
     "name": "stdout",
     "output_type": "stream",
     "text": [
      "lookNum\n"
     ]
    },
    {
     "data": {
      "image/png": "[encoded data removed]",
      "text/plain": [
       "<Figure size 432x288 with 1 Axes>"
      ]
     },
     "metadata": {
      "needs_background": "light"
     },
     "output_type": "display_data"
    }
   ],
   "source": [
    "for i in numeric_list:\n",
    "    print(i)\n",
    "    plt.hist(data_train[i],bins=20)\n",
    "    plt.show()"
   ]
  },
  {
   "cell_type": "code",
   "execution_count": 24,
   "metadata": {},
   "outputs": [
    {
     "name": "stdout",
     "output_type": "stream",
     "text": [
      "houseFloor的特征分布如下：\n",
      "中    15458\n",
      "高    14066\n",
      "低    11916\n",
      "Name: houseFloor, dtype: int64\n",
      "rentType的特征分布如下：\n",
      "未知方式    30759\n",
      "整租       5472\n",
      "合租       5204\n",
      "--          5\n",
      "Name: rentType, dtype: int64\n",
      "region的特征分布如下：\n",
      "RG00002    11437\n",
      "RG00005     5739\n",
      "RG00003     4186\n",
      "RG00010     3640\n",
      "RG00012     3368\n",
      "RG00004     3333\n",
      "RG00006     1961\n",
      "RG00007     1610\n",
      "RG00008     1250\n",
      "RG00013     1215\n",
      "RG00001     1157\n",
      "RG00014     1069\n",
      "RG00011      793\n",
      "RG00009      681\n",
      "RG00015        1\n",
      "Name: region, dtype: int64\n",
      "buildYear的特征分布如下：\n",
      "1994    2851\n",
      "暂无信息    2808\n",
      "2006    2007\n",
      "2007    1851\n",
      "2008    1849\n",
      "2005    1814\n",
      "2010    1774\n",
      "1995    1685\n",
      "1993    1543\n",
      "2011    1498\n",
      "2004    1431\n",
      "2009    1271\n",
      "2014    1238\n",
      "2003    1156\n",
      "1997    1125\n",
      "2002    1120\n",
      "2012    1049\n",
      "1996     991\n",
      "2000     925\n",
      "2001     898\n",
      "2015     840\n",
      "1999     822\n",
      "1998     733\n",
      "2013     714\n",
      "1987     632\n",
      "1983     612\n",
      "1991     545\n",
      "1984     493\n",
      "1980     452\n",
      "1990     431\n",
      "        ... \n",
      "1974      39\n",
      "1960      33\n",
      "1930      30\n",
      "1973      23\n",
      "1955      20\n",
      "1932      19\n",
      "2017      14\n",
      "1936      12\n",
      "1952      12\n",
      "1931      11\n",
      "1968      10\n",
      "1965       8\n",
      "1967       7\n",
      "1937       5\n",
      "1910       5\n",
      "1920       5\n",
      "1949       4\n",
      "1940       4\n",
      "1963       4\n",
      "1969       3\n",
      "1959       3\n",
      "1970       3\n",
      "1912       3\n",
      "1972       2\n",
      "1926       2\n",
      "1939       2\n",
      "1961       2\n",
      "1951       1\n",
      "1962       1\n",
      "1950       1\n",
      "Name: buildYear, Length: 80, dtype: int64\n",
      "communityName的特征分布如下：\n",
      "XQ01834    358\n",
      "XQ01274    192\n",
      "XQ02273    188\n",
      "XQ03110    185\n",
      "XQ02337    173\n",
      "XQ01389    166\n",
      "XQ01658    163\n",
      "XQ02789    152\n",
      "XQ00530    151\n",
      "XQ01561    151\n",
      "XQ01339    132\n",
      "XQ00826    122\n",
      "XQ01873    122\n",
      "XQ02296    121\n",
      "XQ01232    119\n",
      "XQ01401    118\n",
      "XQ02441    117\n",
      "XQ00196    115\n",
      "XQ02365    109\n",
      "XQ01207    109\n",
      "XQ01410    108\n",
      "XQ00852    105\n",
      "XQ02072    103\n",
      "XQ01672    103\n",
      "XQ01375     99\n",
      "XQ01634     99\n",
      "XQ01642     99\n",
      "XQ01970     96\n",
      "XQ00210     93\n",
      "XQ00424     92\n",
      "          ... \n",
      "XQ01474      1\n",
      "XQ03830      1\n",
      "XQ04039      1\n",
      "XQ00001      1\n",
      "XQ01818      1\n",
      "XQ02630      1\n",
      "XQ01944      1\n",
      "XQ03775      1\n",
      "XQ03262      1\n",
      "XQ00691      1\n",
      "XQ00319      1\n",
      "XQ03904      1\n",
      "XQ01288      1\n",
      "XQ00448      1\n",
      "XQ01939      1\n",
      "XQ00872      1\n",
      "XQ02411      1\n",
      "XQ01731      1\n",
      "XQ00993      1\n",
      "XQ04093      1\n",
      "XQ03673      1\n",
      "XQ03725      1\n",
      "XQ00866      1\n",
      "XQ00902      1\n",
      "XQ02212      1\n",
      "XQ01029      1\n",
      "XQ02620      1\n",
      "XQ02330      1\n",
      "XQ02699      1\n",
      "XQ02188      1\n",
      "Name: communityName, Length: 4236, dtype: int64\n",
      "plate的特征分布如下：\n",
      "BK00031    1958\n",
      "BK00033    1837\n",
      "BK00045    1816\n",
      "BK00055    1566\n",
      "BK00056    1516\n",
      "BK00052    1375\n",
      "BK00017    1305\n",
      "BK00041    1266\n",
      "BK00054    1256\n",
      "BK00051    1253\n",
      "BK00046    1227\n",
      "BK00035    1156\n",
      "BK00042    1137\n",
      "BK00009    1016\n",
      "BK00050     979\n",
      "BK00043     930\n",
      "BK00026     906\n",
      "BK00047     880\n",
      "BK00034     849\n",
      "BK00013     834\n",
      "BK00053     819\n",
      "BK00028     745\n",
      "BK00040     679\n",
      "BK00060     671\n",
      "BK00010     651\n",
      "BK00029     646\n",
      "BK00062     618\n",
      "BK00022     614\n",
      "BK00018     613\n",
      "BK00064     590\n",
      "           ... \n",
      "BK00037     444\n",
      "BK00012     412\n",
      "BK00038     398\n",
      "BK00024     397\n",
      "BK00020     384\n",
      "BK00002     357\n",
      "BK00065     348\n",
      "BK00027     344\n",
      "BK00039     343\n",
      "BK00063     281\n",
      "BK00057     278\n",
      "BK00015     253\n",
      "BK00006     231\n",
      "BK00021     226\n",
      "BK00007     225\n",
      "BK00030     219\n",
      "BK00066     219\n",
      "BK00049     211\n",
      "BK00008     210\n",
      "BK00004     189\n",
      "BK00048     165\n",
      "BK00025     157\n",
      "BK00023     127\n",
      "BK00059     122\n",
      "BK00044      98\n",
      "BK00016      40\n",
      "BK00036      33\n",
      "BK00058      15\n",
      "BK00032       3\n",
      "BK00001       1\n",
      "Name: plate, Length: 66, dtype: int64\n",
      "houseDecoration的特征分布如下：\n",
      "其他    29040\n",
      "精装    10918\n",
      "简装     1171\n",
      "毛坯      311\n",
      "Name: houseDecoration, dtype: int64\n",
      "city的特征分布如下：\n",
      "SH    41440\n",
      "Name: city, dtype: int64\n",
      "houseType的特征分布如下：\n",
      "1室1厅1卫    9805\n",
      "2室1厅1卫    8512\n",
      "2室2厅1卫    6783\n",
      "3室1厅1卫    3992\n",
      "3室2厅2卫    2737\n",
      "4室1厅1卫    1957\n",
      "3室2厅1卫    1920\n",
      "1室0厅1卫    1286\n",
      "1室2厅1卫     933\n",
      "2室2厅2卫     881\n",
      "4室2厅2卫     435\n",
      "2室0厅1卫     419\n",
      "4室2厅3卫     273\n",
      "5室1厅1卫     197\n",
      "2室1厅2卫     155\n",
      "3室2厅3卫     149\n",
      "3室1厅2卫     135\n",
      "1室0厅0卫      86\n",
      "6室1厅1卫      65\n",
      "4室2厅4卫      62\n",
      "5室2厅3卫      54\n",
      "4室2厅1卫      40\n",
      "1室1厅2卫      39\n",
      "4室3厅3卫      34\n",
      "4室3厅4卫      34\n",
      "5室2厅2卫      33\n",
      "5室2厅4卫      30\n",
      "5室3厅3卫      30\n",
      "4室1厅2卫      20\n",
      "5室3厅4卫      20\n",
      "          ... \n",
      "9室3厅8卫       1\n",
      "7室4厅3卫       1\n",
      "0室0厅1卫       1\n",
      "3室1厅0卫       1\n",
      "4室4厅2卫       1\n",
      "6室4厅2卫       1\n",
      "6室4厅5卫       1\n",
      "5室5厅4卫       1\n",
      "7室1厅3卫       1\n",
      "4室1厅4卫       1\n",
      "6室2厅6卫       1\n",
      "6室4厅4卫       1\n",
      "7室3厅4卫       1\n",
      "8室4厅4卫       1\n",
      "2室1厅3卫       1\n",
      "3室4厅4卫       1\n",
      "7室1厅7卫       1\n",
      "3室0厅0卫       1\n",
      "4室0厅2卫       1\n",
      "3室2厅5卫       1\n",
      "6室1厅4卫       1\n",
      "8室3厅4卫       1\n",
      "9室2厅5卫       1\n",
      "6室2厅5卫       1\n",
      "8室2厅3卫       1\n",
      "5室2厅6卫       1\n",
      "8室2厅4卫       1\n",
      "5室4厅2卫       1\n",
      "5室1厅3卫       1\n",
      "5室1厅5卫       1\n",
      "Name: houseType, Length: 104, dtype: int64\n",
      "houseToward的特征分布如下：\n",
      "南       34377\n",
      "南北       2254\n",
      "北        2043\n",
      "暂无数据      963\n",
      "东南        655\n",
      "东         552\n",
      "西         264\n",
      "西南        250\n",
      "西北         58\n",
      "东西         24\n",
      "Name: houseToward, dtype: int64\n",
      "tradeMoney的特征分布如下：\n",
      "4000.00        1450\n",
      "3500.00        1345\n",
      "4500.00        1222\n",
      "3000.00        1209\n",
      "5000.00        1165\n",
      "3800.00        1083\n",
      "3600.00         889\n",
      "4300.00         863\n",
      "4200.00         838\n",
      "3300.00         834\n",
      "4800.00         763\n",
      "3200.00         758\n",
      "6000.00         740\n",
      "2800.00         719\n",
      "5500.00         694\n",
      "3400.00         605\n",
      "3700.00         596\n",
      "2500.00         554\n",
      "4600.00         546\n",
      "6500.00         494\n",
      "5200.00         483\n",
      "2000.00         472\n",
      "3900.00         470\n",
      "2600.00         463\n",
      "5300.00         447\n",
      "4100.00         428\n",
      "3100.00         420\n",
      "5800.00         404\n",
      "7000.00         395\n",
      "8000.00         365\n",
      "               ... \n",
      "980.00            1\n",
      "200.00            1\n",
      "34063.00          1\n",
      "5282.00           1\n",
      "99999999.99       1\n",
      "9150.00           1\n",
      "8846.00           1\n",
      "9885.00           1\n",
      "1620.00           1\n",
      "370000.00         1\n",
      "24800.00          1\n",
      "1370.00           1\n",
      "125000.00         1\n",
      "4920.00           1\n",
      "5477.00           1\n",
      "87600.00          1\n",
      "4232.00           1\n",
      "2376.00           1\n",
      "350.00            1\n",
      "1880.00           1\n",
      "3720.00           1\n",
      "350000.00         1\n",
      "15300.00          1\n",
      "3077.00           1\n",
      "3780.00           1\n",
      "23600.00          1\n",
      "3666.00           1\n",
      "13999.00          1\n",
      "23900.00          1\n",
      "1225.00           1\n",
      "Name: tradeMoney, Length: 836, dtype: int64\n"
     ]
    }
   ],
   "source": [
    "for feature in type_list:\n",
    "    print(feature + \"的特征分布如下：\")\n",
    "    print(data_train[feature].value_counts())"
   ]
  },
  {
   "cell_type": "markdown",
   "metadata": {},
   "source": [
    "# 统计特征值出现频次大于100的特征"
   ]
  },
  {
   "cell_type": "code",
   "execution_count": 11,
   "metadata": {},
   "outputs": [
    {
     "name": "stdout",
     "output_type": "stream",
     "text": [
      "  houseFloor  counts\n",
      "0          中   15458\n",
      "1          高   14066\n",
      "2          低   11916\n",
      "  rentType  counts\n",
      "0     未知方式   30759\n",
      "1       整租    5472\n",
      "2       合租    5204\n",
      "     region  counts\n",
      "0   RG00002   11437\n",
      "1   RG00005    5739\n",
      "2   RG00003    4186\n",
      "3   RG00010    3640\n",
      "4   RG00012    3368\n",
      "5   RG00004    3333\n",
      "6   RG00006    1961\n",
      "7   RG00007    1610\n",
      "8   RG00008    1250\n",
      "9   RG00013    1215\n",
      "10  RG00001    1157\n",
      "11  RG00014    1069\n",
      "12  RG00011     793\n",
      "13  RG00009     681\n",
      "   buildYear  counts\n",
      "0       1994    2851\n",
      "1       暂无信息    2808\n",
      "2       2006    2007\n",
      "3       2007    1851\n",
      "4       2008    1849\n",
      "5       2005    1814\n",
      "6       2010    1774\n",
      "7       1995    1685\n",
      "8       1993    1543\n",
      "9       2011    1498\n",
      "10      2004    1431\n",
      "11      2009    1271\n",
      "12      2014    1238\n",
      "13      2003    1156\n",
      "14      1997    1125\n",
      "15      2002    1120\n",
      "16      2012    1049\n",
      "17      1996     991\n",
      "18      2000     925\n",
      "19      2001     898\n",
      "20      2015     840\n",
      "21      1999     822\n",
      "22      1998     733\n",
      "23      2013     714\n",
      "24      1987     632\n",
      "25      1983     612\n",
      "26      1991     545\n",
      "27      1984     493\n",
      "28      1980     452\n",
      "29      1990     431\n",
      "30      1988     423\n",
      "31      1989     419\n",
      "32      1985     359\n",
      "33      1982     344\n",
      "34      1986     320\n",
      "35      1992     308\n",
      "36      1976     251\n",
      "37      1957     227\n",
      "38      1981     221\n",
      "39      1956     153\n",
      "40      1977     153\n",
      "41      2016     140\n",
      "42      1978     133\n",
      "43      1958     122\n",
      "44      1979     116\n",
      "45      1954     101\n",
      "   communityName  counts\n",
      "0        XQ01834     358\n",
      "1        XQ01274     192\n",
      "2        XQ02273     188\n",
      "3        XQ03110     185\n",
      "4        XQ02337     173\n",
      "5        XQ01389     166\n",
      "6        XQ01658     163\n",
      "7        XQ02789     152\n",
      "8        XQ00530     151\n",
      "9        XQ01561     151\n",
      "10       XQ01339     132\n",
      "11       XQ00826     122\n",
      "12       XQ01873     122\n",
      "13       XQ02296     121\n",
      "14       XQ01232     119\n",
      "15       XQ01401     118\n",
      "16       XQ02441     117\n",
      "17       XQ00196     115\n",
      "18       XQ02365     109\n",
      "19       XQ01207     109\n",
      "20       XQ01410     108\n",
      "21       XQ00852     105\n",
      "22       XQ02072     103\n",
      "23       XQ01672     103\n",
      "      plate  counts\n",
      "0   BK00031    1958\n",
      "1   BK00033    1837\n",
      "2   BK00045    1816\n",
      "3   BK00055    1566\n",
      "4   BK00056    1516\n",
      "5   BK00052    1375\n",
      "6   BK00017    1305\n",
      "7   BK00041    1266\n",
      "8   BK00054    1256\n",
      "9   BK00051    1253\n",
      "10  BK00046    1227\n",
      "11  BK00035    1156\n",
      "12  BK00042    1137\n",
      "13  BK00009    1016\n",
      "14  BK00050     979\n",
      "15  BK00043     930\n",
      "16  BK00026     906\n",
      "17  BK00047     880\n",
      "18  BK00034     849\n",
      "19  BK00013     834\n",
      "20  BK00053     819\n",
      "21  BK00028     745\n",
      "22  BK00040     679\n",
      "23  BK00060     671\n",
      "24  BK00010     651\n",
      "25  BK00029     646\n",
      "26  BK00062     618\n",
      "27  BK00022     614\n",
      "28  BK00018     613\n",
      "29  BK00064     590\n",
      "30  BK00005     549\n",
      "31  BK00003     523\n",
      "32  BK00014     500\n",
      "33  BK00019     498\n",
      "34  BK00061     477\n",
      "35  BK00011     455\n",
      "36  BK00037     444\n",
      "37  BK00012     412\n",
      "38  BK00038     398\n",
      "39  BK00024     397\n",
      "40  BK00020     384\n",
      "41  BK00002     357\n",
      "42  BK00065     348\n",
      "43  BK00027     344\n",
      "44  BK00039     343\n",
      "45  BK00063     281\n",
      "46  BK00057     278\n",
      "47  BK00015     253\n",
      "48  BK00006     231\n",
      "49  BK00021     226\n",
      "50  BK00007     225\n",
      "51  BK00030     219\n",
      "52  BK00066     219\n",
      "53  BK00049     211\n",
      "54  BK00008     210\n",
      "55  BK00004     189\n",
      "56  BK00048     165\n",
      "57  BK00025     157\n",
      "58  BK00023     127\n",
      "59  BK00059     122\n",
      "  houseDecoration  counts\n",
      "0              其他   29040\n",
      "1              精装   10918\n",
      "2              简装    1171\n",
      "3              毛坯     311\n",
      "  city  counts\n",
      "0   SH   41440\n",
      "   houseType  counts\n",
      "0     1室1厅1卫    9805\n",
      "1     2室1厅1卫    8512\n",
      "2     2室2厅1卫    6783\n",
      "3     3室1厅1卫    3992\n",
      "4     3室2厅2卫    2737\n",
      "5     4室1厅1卫    1957\n",
      "6     3室2厅1卫    1920\n",
      "7     1室0厅1卫    1286\n",
      "8     1室2厅1卫     933\n",
      "9     2室2厅2卫     881\n",
      "10    4室2厅2卫     435\n",
      "11    2室0厅1卫     419\n",
      "12    4室2厅3卫     273\n",
      "13    5室1厅1卫     197\n",
      "14    2室1厅2卫     155\n",
      "15    3室2厅3卫     149\n",
      "16    3室1厅2卫     135\n",
      "  houseToward  counts\n",
      "0           南   34377\n",
      "1          南北    2254\n",
      "2           北    2043\n",
      "3        暂无数据     963\n",
      "4          东南     655\n",
      "5           东     552\n",
      "6           西     264\n",
      "7          西南     250\n",
      "    tradeMoney  counts\n",
      "0       4000.0    1450\n",
      "1       3500.0    1345\n",
      "2       4500.0    1222\n",
      "3       3000.0    1209\n",
      "4       5000.0    1165\n",
      "5       3800.0    1083\n",
      "6       3600.0     889\n",
      "7       4300.0     863\n",
      "8       4200.0     838\n",
      "9       3300.0     834\n",
      "10      4800.0     763\n",
      "11      3200.0     758\n",
      "12      6000.0     740\n",
      "13      2800.0     719\n",
      "14      5500.0     694\n",
      "15      3400.0     605\n",
      "16      3700.0     596\n",
      "17      2500.0     554\n",
      "18      4600.0     546\n",
      "19      6500.0     494\n",
      "20      5200.0     483\n",
      "21      2000.0     472\n",
      "22      3900.0     470\n",
      "23      2600.0     463\n",
      "24      5300.0     447\n",
      "25      4100.0     428\n",
      "26      3100.0     420\n",
      "27      5800.0     404\n",
      "28      7000.0     395\n",
      "29      8000.0     365\n",
      "..         ...     ...\n",
      "58      1690.0     175\n",
      "59      2290.0     174\n",
      "60      2090.0     172\n",
      "61      6600.0     168\n",
      "62      1790.0     166\n",
      "63      1890.0     161\n",
      "64      1590.0     161\n",
      "65      7800.0     154\n",
      "66      1300.0     152\n",
      "67     13000.0     149\n",
      "68      2100.0     149\n",
      "69      7200.0     147\n",
      "70      2190.0     141\n",
      "71      1400.0     137\n",
      "72      1490.0     134\n",
      "73      2490.0     130\n",
      "74     10500.0     125\n",
      "75      2390.0     122\n",
      "76      1760.0     120\n",
      "77      6700.0     116\n",
      "78     15000.0     115\n",
      "79      7300.0     114\n",
      "80     16000.0     113\n",
      "81      1000.0     111\n",
      "82      1660.0     110\n",
      "83      1200.0     110\n",
      "84      8800.0     107\n",
      "85      2790.0     107\n",
      "86      6400.0     106\n",
      "87      1730.0     103\n",
      "\n",
      "[88 rows x 2 columns]\n"
     ]
    }
   ],
   "source": [
    "for feature in type_list:\n",
    "    df_value_counts = pd.DataFrame(data_train[feature].value_counts())\n",
    "    df_value_counts = df_value_counts.reset_index()\n",
    "    df_value_counts.columns = [feature, 'counts'] # change column names\n",
    "    print(df_value_counts[df_value_counts['counts'] >= 100])"
   ]
  },
  {
   "cell_type": "markdown",
   "metadata": {},
   "source": [
    "# Label分布"
   ]
  },
  {
   "cell_type": "code",
   "execution_count": 20,
   "metadata": {},
   "outputs": [
    {
     "data": {
      "text/plain": [
       "<matplotlib.axes._subplots.AxesSubplot at 0x1d80d1c2d30>"
      ]
     },
     "execution_count": 20,
     "metadata": {},
     "output_type": "execute_result"
    },
    {
     "data": {
      "image/png": "[encoded data removed]",
      "text/plain": [
       "<Figure size 1440x864 with 6 Axes>"
      ]
     },
     "metadata": {
      "needs_background": "light"
     },
     "output_type": "display_data"
    }
   ],
   "source": [
    "fig,axes = plt.subplots(2,3,figsize=(20,5))#构造两行三列的子图阵列\n",
    "fig.set_size_inches(20,12)\n",
    "sns.distplot(data_train['tradeMoney'],ax=axes[0][0])\n",
    "sns.distplot(data_train[(data_train['tradeMoney']<=20000)]['tradeMoney'],ax=axes[0][1])\n",
    "sns.distplot(data_train[(data_train['tradeMoney']>20000)&(data_train['tradeMoney']<=50000)]['tradeMoney'],ax=axes[0][2])\n",
    "sns.distplot(data_train[(data_train['tradeMoney']>50000)&(data_train['tradeMoney']<=100000)]['tradeMoney'],ax=axes[1][0])\n",
    "sns.distplot(data_train[(data_train['tradeMoney']>100000)]['tradeMoney'],ax=axes[1][1])"
   ]
  },
  {
   "cell_type": "code",
   "execution_count": 21,
   "metadata": {},
   "outputs": [],
   "source": [
    "# sns.distplot?\n",
    "# sns.distplot(\n",
    "#     ['a', 'bins=None', 'hist=True', 'kde=True', 'rug=False', 'fit=None', 'hist_kws=None', 'kde_kws=None', 'rug_kws=None', 'fit_kws=None', 'color=None', 'vertical=False', 'norm_hist=False', 'axlabel=None', 'label=None', 'ax=None'],\n",
    "# )"
   ]
  },
  {
   "cell_type": "code",
   "execution_count": 22,
   "metadata": {},
   "outputs": [
    {
     "name": "stdout",
     "output_type": "stream",
     "text": [
      "money<=10000 38964\n",
      "10000<money<=20000 1985\n",
      "20000<money<=50000 433\n",
      "50000<money<=100000 39\n",
      "100000<money 19\n"
     ]
    }
   ],
   "source": [
    "print(\"money<=10000\",len(data_train[(data_train['tradeMoney']<=10000)]['tradeMoney']))\n",
    "print(\"10000<money<=20000\",len(data_train[(data_train['tradeMoney']>10000)&(data_train['tradeMoney']<=20000)]['tradeMoney']))\n",
    "print(\"20000<money<=50000\",len(data_train[(data_train['tradeMoney']>20000)&(data_train['tradeMoney']<=50000)]['tradeMoney']))\n",
    "print(\"50000<money<=100000\",len(data_train[(data_train['tradeMoney']>50000)&(data_train['tradeMoney']<=100000)]['tradeMoney']))\n",
    "print(\"100000<money\",len(data_train[(data_train['tradeMoney']>100000)]['tradeMoney']))"
   ]
  },
  {
   "cell_type": "markdown",
   "metadata": {},
   "source": [
    "# 不同的特征值的样本的label的分布"
   ]
  },
  {
   "cell_type": "code",
   "execution_count": 33,
   "metadata": {},
   "outputs": [
    {
     "data": {
      "text/plain": [
       "(array([2.1741e+04, 1.0795e+04, 6.8350e+03, 1.7630e+03, 2.3600e+02,\n",
       "        3.3000e+01, 3.0000e+01, 5.0000e+00, 0.0000e+00, 2.0000e+00]),\n",
       " array([ 0. ,  8.8, 17.6, 26.4, 35.2, 44. , 52.8, 61.6, 70.4, 79.2, 88. ]),\n",
       " <a list of 10 Patch objects>)"
      ]
     },
     "execution_count": 33,
     "metadata": {},
     "output_type": "execute_result"
    },
    {
     "data": {
      "image/png": "[encoded data removed]",
      "text/plain": [
       "<Figure size 432x288 with 1 Axes>"
      ]
     },
     "metadata": {
      "needs_background": "light"
     },
     "output_type": "display_data"
    }
   ],
   "source": [
    "plt.hist(data_train['totalFloor'],bins=10)"
   ]
  },
  {
   "cell_type": "code",
   "execution_count": 43,
   "metadata": {},
   "outputs": [],
   "source": [
    "floor=[data_train[(data_train['totalFloor']>i) & (data_train['totalFloor']<i+5)] for i in range(0,100,5)]"
   ]
  },
  {
   "cell_type": "code",
   "execution_count": null,
   "metadata": {},
   "outputs": [],
   "source": []
  }
 ],
 "metadata": {
  "kernelspec": {
   "display_name": "Python 3",
   "language": "python",
   "name": "python3"
  },
  "language_info": {
   "codemirror_mode": {
    "name": "ipython",
    "version": 3
   },
   "file_extension": ".py",
   "mimetype": "text/x-python",
   "name": "python",
   "nbconvert_exporter": "python",
   "pygments_lexer": "ipython3",
   "version": "3.7.1"
  }
 },
 "nbformat": 4,
 "nbformat_minor": 2
}
